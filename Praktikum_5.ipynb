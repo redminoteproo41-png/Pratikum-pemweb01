{
  "nbformat": 4,
  "nbformat_minor": 0,
  "metadata": {
    "colab": {
      "provenance": [],
      "authorship_tag": "ABX9TyMCc8i7hwzUFzUCgvLP5ONZ",
      "include_colab_link": true
    },
    "kernelspec": {
      "name": "python3",
      "display_name": "Python 3"
    },
    "language_info": {
      "name": "python"
    }
  },
  "cells": [
    {
      "cell_type": "markdown",
      "metadata": {
        "id": "view-in-github",
        "colab_type": "text"
      },
      "source": [
        "<a href=\"https://colab.research.google.com/github/redminoteproo41-png/Pratikum-pemweb01/blob/main/Praktikum_5.ipynb\" target=\"_parent\"><img src=\"https://colab.research.google.com/assets/colab-badge.svg\" alt=\"Open In Colab\"/></a>"
      ]
    },
    {
      "cell_type": "code",
      "execution_count": null,
      "metadata": {
        "id": "mQ-laNN6z2rE",
        "colab": {
          "base_uri": "https://localhost:8080/"
        },
        "outputId": "22145521-c009-4f76-f6fe-151e354bdc2c"
      },
      "outputs": [
        {
          "output_type": "stream",
          "name": "stdout",
          "text": [
            "['Beat Karbu', 'Motor', 200, 'Hitam', 2]\n",
            "['Beat Karbu', 'Motor', 200, 'Hitam', 2, 5000, 'metik']\n",
            "['Beat Karbu', 'Motor', 'Honda', 200, 'Hitam', 2, 5000, 'metik']\n"
          ]
        }
      ],
      "source": [
        "Namakendaraan = \"Beat Karbu\"\n",
        "Jeniskendaraan = \"Motor\"\n",
        "cckendaraan = 200\n",
        "Warnakendaraan = \"Hitam\"\n",
        "Rodakendaraan = 2\n",
        "\n",
        "data_kendaraan = [Namakendaraan, Jeniskendaraan, cckendaraan, Warnakendaraan,\n",
        "Rodakendaraan]\n",
        "\n",
        "print(data_kendaraan)\n",
        "\n",
        "hargaKendaraan = 5000\n",
        "tipeKendaraan = \"metik\"\n",
        "\n",
        "data_kendaraan.append(hargaKendaraan)\n",
        "data_kendaraan.append(tipeKendaraan)\n",
        "print(data_kendaraan)\n",
        "\n",
        "merkKendaraan = \"Honda\"\n",
        "data_kendaraan.insert(2, merkKendaraan)\n",
        "print(data_kendaraan)"
      ]
    },
    {
      "cell_type": "code",
      "source": [
        " pilihan = input(\"\"\"\n",
        "Silahkan pilih menu yang diinginkan\n",
        "==============\n",
        "1. Luas persegi\n",
        "2. Luas lingkaran\n",
        "3. Luas segitiga\n",
        "===============\n",
        "Kirimkan hanya angka saja,\n",
        "jawaban = \"\"\")\n",
        "\n",
        "print(type(pilihan))\n",
        "\n",
        "match pilihan:\n",
        "  case \"1\":\n",
        "    sisi = int(input(\" sisi = \"))\n",
        "    Luas = sisi * sisi\n",
        "\n",
        "    print(f\"Luas persegi dengan sisi {sisi} adalah {Luas}\")\n",
        "    #luas persegi\n",
        "  case \"2\":\n",
        "    #luas lingkaran\n",
        "    #phi * jari_jari**2\n",
        "    print(\"anda memilih luas lingkaran silahkan isi data dibawah\")\n",
        "    jari_jari = int(input(\"jarijari = \"))\n",
        "    Luas_lingkaran = 3.14 * jarijari**2\n",
        "\n",
        "    print(f\"luas lingkaran dengan jarijari {jarijari} adalah {Luas_lingkaran}\")\n",
        "\n",
        "  case \"3\":\n",
        "    # luas segitiga\n",
        "    #(alas * tinggi)/2\n",
        "\n",
        "    print(\"jika anda memilih luas segitiga silahkan isi data dibawah\")\n",
        "    alas = int(input(\"tinggi = \"))\n",
        "    tinggi = int(input(\"jarijari = \"))\n",
        "    luas = (alas * tinggi) /2\n",
        "\n",
        "  case _:\n",
        "    print(\"ya nda tau ko tanya saya si\")"
      ],
      "metadata": {
        "colab": {
          "base_uri": "https://localhost:8080/"
        },
        "id": "iGgeM8f29GvM",
        "outputId": "53495a48-ac8c-4435-ee00-a52afb0221f0"
      },
      "execution_count": 24,
      "outputs": [
        {
          "output_type": "stream",
          "name": "stdout",
          "text": [
            "\n",
            "Silahkan pilih menu yang diinginkan\n",
            "==============\n",
            "1. Luas persegi\n",
            "2. Luas lingkaran\n",
            "3. Luas segitiga\n",
            "===============\n",
            "Kirimkan hanya angka saja,\n",
            "jawaban = 2\n",
            "<class 'str'>\n",
            "anda memilih luas lingkaran silahkan isi data dibawah\n",
            "jarijari = 2\n",
            "luas lingkaran dengan jarijari 5 adalah 78.5\n"
          ]
        }
      ]
    }
  ]
}